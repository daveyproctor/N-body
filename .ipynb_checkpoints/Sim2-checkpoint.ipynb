{
 "cells": [
  {
   "cell_type": "code",
   "execution_count": 134,
   "metadata": {
    "collapsed": false
   },
   "outputs": [
    {
     "name": "stdout",
     "output_type": "stream",
     "text": [
      "0.05\n"
     ]
    }
   ],
   "source": [
    "%matplotlib inline\n",
    "import numpy as np\n",
    "import matplotlib.pylab as plt\n",
    "# from scipy.constants import G\n",
    "G = .05\n",
    "print G\n",
    "t_step = 1\n",
    "canvas = 10"
   ]
  },
  {
   "cell_type": "code",
   "execution_count": 135,
   "metadata": {
    "collapsed": false
   },
   "outputs": [
    {
     "name": "stdout",
     "output_type": "stream",
     "text": [
      "[[-0.03789917  0.05100029]\n",
      " [-0.0916054   0.0870327 ]\n",
      " [-0.11671901  0.16336941]\n",
      " [ 0.13454416 -0.02088223]]\n",
      "[ 0.81764938  0.33611195  0.17541045  0.37283205]\n"
     ]
    }
   ],
   "source": [
    "n = 4\n",
    "np.random.seed(100)\n",
    "positions = np.random.randn(n,2) * 3\n",
    "vels = np.random.randn(n,2) / 5\n",
    "print vels\n",
    "masses = np.random.random_sample(n)\n",
    "print masses"
   ]
  },
  {
   "cell_type": "code",
   "execution_count": 136,
   "metadata": {
    "collapsed": false
   },
   "outputs": [
    {
     "data": {
      "text/plain": [
       "array([[-5.24929642,  1.02804121],\n",
       "       [ 3.45910741, -0.75730811],\n",
       "       [ 2.94396236,  1.54265652],\n",
       "       [ 0.66353901, -3.21012999]])"
      ]
     },
     "execution_count": 136,
     "metadata": {},
     "output_type": "execute_result"
    }
   ],
   "source": [
    "positions"
   ]
  },
  {
   "cell_type": "code",
   "execution_count": 137,
   "metadata": {
    "collapsed": false
   },
   "outputs": [
    {
     "data": {
      "text/plain": [
       "array([-5.24929642,  3.45910741,  2.94396236,  0.66353901])"
      ]
     },
     "execution_count": 137,
     "metadata": {},
     "output_type": "execute_result"
    }
   ],
   "source": [
    "positions[:,0]"
   ]
  },
  {
   "cell_type": "code",
   "execution_count": 138,
   "metadata": {
    "collapsed": false
   },
   "outputs": [
    {
     "data": {
      "text/plain": [
       "[-10, 10, -10, 10]"
      ]
     },
     "execution_count": 138,
     "metadata": {},
     "output_type": "execute_result"
    },
    {
     "data": {
      "image/png": "[encoded data removed]",
      "text/plain": [
       "<matplotlib.figure.Figure at 0x10b7a9490>"
      ]
     },
     "metadata": {},
     "output_type": "display_data"
    }
   ],
   "source": [
    "plt.plot(positions[:,0], positions[:,1], '.')\n",
    "plt.plot(vels[:,0], vels[:,1], '.')\n",
    "plt.axis([-10,10,-10,10])"
   ]
  },
  {
   "cell_type": "code",
   "execution_count": 139,
   "metadata": {
    "collapsed": true
   },
   "outputs": [],
   "source": [
    "def plot(i):\n",
    "    plt.plot(positions[i,0], positions[i,1], '.')"
   ]
  },
  {
   "cell_type": "code",
   "execution_count": 140,
   "metadata": {
    "collapsed": true
   },
   "outputs": [],
   "source": [
    "def plot_all(canvas):\n",
    "#     plt.plot(positions[:,0], positions[:,1], '.')\n",
    "    for i in xrange(n):\n",
    "        plot(i)\n",
    "    plt.axis([-canvas,canvas,-canvas,canvas])"
   ]
  },
  {
   "cell_type": "code",
   "execution_count": 141,
   "metadata": {
    "collapsed": false
   },
   "outputs": [
    {
     "data": {
      "image/png": "[encoded data removed]",
      "text/plain": [
       "<matplotlib.figure.Figure at 0x10b45c1d0>"
      ]
     },
     "metadata": {},
     "output_type": "display_data"
    }
   ],
   "source": [
    "plot_all(canvas)\n",
    "positions += vels\n",
    "plot_all(canvas)"
   ]
  },
  {
   "cell_type": "code",
   "execution_count": 142,
   "metadata": {
    "collapsed": false
   },
   "outputs": [
    {
     "name": "stdout",
     "output_type": "stream",
     "text": [
      "[[-5.28719559  1.0790415 ]\n",
      " [ 3.36750201 -0.67027541]\n",
      " [ 2.82724335  1.70602594]\n",
      " [ 0.79808317 -3.23101222]]\n",
      "[ 8.6546976  -1.74931691]\n"
     ]
    }
   ],
   "source": [
    "print positions\n",
    "r01 = positions[1] - positions[0]\n",
    "print r01"
   ]
  },
  {
   "cell_type": "code",
   "execution_count": 143,
   "metadata": {
    "collapsed": false
   },
   "outputs": [
    {
     "name": "stdout",
     "output_type": "stream",
     "text": [
      "77.9639001311\n"
     ]
    }
   ],
   "source": [
    "r01_squared = np.dot(r01,r01)\n",
    "print r01_squared"
   ]
  },
  {
   "cell_type": "code",
   "execution_count": 144,
   "metadata": {
    "collapsed": false
   },
   "outputs": [
    {
     "data": {
      "text/plain": [
       "2.0"
      ]
     },
     "execution_count": 144,
     "metadata": {},
     "output_type": "execute_result"
    }
   ],
   "source": [
    "np.sqrt(4)"
   ]
  },
  {
   "cell_type": "code",
   "execution_count": 145,
   "metadata": {
    "collapsed": false
   },
   "outputs": [
    {
     "name": "stdout",
     "output_type": "stream",
     "text": [
      "[ 0.98017838 -0.19811699]\n"
     ]
    }
   ],
   "source": [
    "r01hat = r01 / np.sqrt(r01_squared)\n",
    "print r01hat"
   ]
  },
  {
   "cell_type": "code",
   "execution_count": 146,
   "metadata": {
    "collapsed": false
   },
   "outputs": [
    {
     "name": "stdout",
     "output_type": "stream",
     "text": [
      "[ 1.28425905 -0.25957881]\n"
     ]
    }
   ],
   "source": [
    "Fv01 = G*masses[0]*masses[1]*r01hat*r01_squared\n",
    "g01 = Fv01 / masses[0]\n",
    "print g01"
   ]
  },
  {
   "cell_type": "code",
   "execution_count": 147,
   "metadata": {
    "collapsed": true
   },
   "outputs": [],
   "source": [
    "vels[0] += g01 * t_step"
   ]
  },
  {
   "cell_type": "code",
   "execution_count": 148,
   "metadata": {
    "collapsed": true
   },
   "outputs": [],
   "source": [
    "positions[0] += vels[0] * t_step"
   ]
  },
  {
   "cell_type": "code",
   "execution_count": 150,
   "metadata": {
    "collapsed": false
   },
   "outputs": [
    {
     "data": {
      "image/png": "[encoded data removed]",
      "text/plain": [
       "<matplotlib.figure.Figure at 0x10b1656d0>"
      ]
     },
     "metadata": {},
     "output_type": "display_data"
    }
   ],
   "source": [
    "plot_all(canvas)"
   ]
  },
  {
   "cell_type": "code",
   "execution_count": 151,
   "metadata": {
    "collapsed": true
   },
   "outputs": [],
   "source": [
    "def Fij(i,j):\n",
    "    rij = positions[j] - positions[i]\n",
    "    rij_len = np.sqrt(np.dot(rij,rij))\n",
    "    rij_hat = rij / rij_len\n",
    "    return G * masses[i] * masses[j] * rij_hat / rij_len**2"
   ]
  },
  {
   "cell_type": "code",
   "execution_count": 152,
   "metadata": {
    "collapsed": true
   },
   "outputs": [],
   "source": [
    "def Fi(i):\n",
    "    Fi = 0.0\n",
    "    for j in xrange(n):\n",
    "        if j == i:\n",
    "            pass\n",
    "        else:\n",
    "            Fi += Fij(i,j)\n",
    "    return Fi"
   ]
  },
  {
   "cell_type": "code",
   "execution_count": 153,
   "metadata": {
    "collapsed": true
   },
   "outputs": [],
   "source": [
    "def accels():\n",
    "    return np.array([Fi(i) / m for i,m in enumerate(masses)])"
   ]
  },
  {
   "cell_type": "code",
   "execution_count": 154,
   "metadata": {
    "collapsed": true
   },
   "outputs": [],
   "source": [
    "def new_pos():\n",
    "    global vels, positions\n",
    "    accel = accels()\n",
    "    vels += accel * t_step\n",
    "    positions += vels * t_step"
   ]
  },
  {
   "cell_type": "code",
   "execution_count": 200,
   "metadata": {
    "collapsed": true
   },
   "outputs": [],
   "source": [
    "def rand_start(seed):\n",
    "    global G,canvas,t_step,n,positions,vels,masses\n",
    "    canvas = 100\n",
    "    G = .2\n",
    "    t_step = 1\n",
    "    n = 4\n",
    "    np.random.seed(seed)\n",
    "    positions = np.random.randn(n,2) * 3\n",
    "    vels = np.random.randn(n,2) / 5\n",
    "    masses = np.random.random_sample(n)"
   ]
  },
  {
   "cell_type": "code",
   "execution_count": 212,
   "metadata": {
    "collapsed": false
   },
   "outputs": [],
   "source": [
    "def go(init,steps):\n",
    "    init(100)\n",
    "    for i in xrange(steps):\n",
    "        plot_all(canvas)\n",
    "        new_pos()\n",
    "    plt.show()"
   ]
  },
  {
   "cell_type": "code",
   "execution_count": 202,
   "metadata": {
    "collapsed": false
   },
   "outputs": [
    {
     "data": {
      "image/png": "[encoded data removed]",
      "text/plain": [
       "<matplotlib.figure.Figure at 0x10c859f50>"
      ]
     },
     "metadata": {},
     "output_type": "display_data"
    }
   ],
   "source": [
    "go(rand_start,10)"
   ]
  },
  {
   "cell_type": "code",
   "execution_count": 203,
   "metadata": {
    "collapsed": false
   },
   "outputs": [
    {
     "data": {
      "image/png": "[encoded data removed]",
      "text/plain": [
       "<matplotlib.figure.Figure at 0x10c652cd0>"
      ]
     },
     "metadata": {},
     "output_type": "display_data"
    }
   ],
   "source": [
    "go(rand_start,100)"
   ]
  },
  {
   "cell_type": "code",
   "execution_count": 228,
   "metadata": {
    "collapsed": true
   },
   "outputs": [],
   "source": [
    "def circle_start(seed):\n",
    "    global G,canvas,t_step,n,positions,vels,masses\n",
    "    canvas = 10\n",
    "    G = 3\n",
    "    t_step = 1\n",
    "    n = 2\n",
    "    positions = np.array([[-1.,0.], [1.,0.]])\n",
    "    vels = np.array([[0.,-1.], [0.,1.]])\n",
    "    masses = np.array([1.,1.])"
   ]
  },
  {
   "cell_type": "code",
   "execution_count": 232,
   "metadata": {
    "collapsed": false,
    "scrolled": true
   },
   "outputs": [
    {
     "data": {
      "image/png": "[encoded data removed]",
      "text/plain": [
       "<matplotlib.figure.Figure at 0x10bbd7e50>"
      ]
     },
     "metadata": {},
     "output_type": "display_data"
    }
   ],
   "source": [
    "go(circle_start,100)"
   ]
  },
  {
   "cell_type": "code",
   "execution_count": null,
   "metadata": {
    "collapsed": true
   },
   "outputs": [],
   "source": []
  }
 ],
 "metadata": {
  "kernelspec": {
   "display_name": "Python 2",
   "language": "python",
   "name": "python2"
  },
  "language_info": {
   "codemirror_mode": {
    "name": "ipython",
    "version": 2
   },
   "file_extension": ".py",
   "mimetype": "text/x-python",
   "name": "python",
   "nbconvert_exporter": "python",
   "pygments_lexer": "ipython2",
   "version": "2.7.12"
  }
 },
 "nbformat": 4,
 "nbformat_minor": 1
}
